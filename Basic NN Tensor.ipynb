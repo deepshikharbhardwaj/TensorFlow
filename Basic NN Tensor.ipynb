{
  "nbformat": 4,
  "nbformat_minor": 0,
  "metadata": {
    "colab": {
      "name": "Tensor Test.ipynb",
      "provenance": [],
      "collapsed_sections": [],
      "authorship_tag": "ABX9TyO7OvVHkt/OZTqlV1IahfHq",
      "include_colab_link": true
    },
    "kernelspec": {
      "name": "python3",
      "display_name": "Python 3"
    }
  },
  "cells": [
    {
      "cell_type": "markdown",
      "metadata": {
        "id": "view-in-github",
        "colab_type": "text"
      },
      "source": [
        "<a href=\"https://colab.research.google.com/github/deepshikharbhardwaj/TensorFlow/blob/main/Basic%20NN%20Tensor.ipynb\" target=\"_parent\"><img src=\"https://colab.research.google.com/assets/colab-badge.svg\" alt=\"Open In Colab\"/></a>"
      ]
    },
    {
      "cell_type": "code",
      "metadata": {
        "id": "DsJ-hpB5Xl7Q"
      },
      "source": [
        "import tensorflow.compat.v1 as tf\n",
        "tf.disable_v2_behavior()\n",
        "import numpy as np"
      ],
      "execution_count": null,
      "outputs": []
    },
    {
      "cell_type": "code",
      "metadata": {
        "id": "A_WvL-YRXrUY"
      },
      "source": [
        "n_f = 10\n",
        "n_d_n = 3"
      ],
      "execution_count": null,
      "outputs": []
    },
    {
      "cell_type": "code",
      "metadata": {
        "id": "etJzPgTHXuvv"
      },
      "source": [
        "x = tf.placeholder(tf.float32, (None, n_f))"
      ],
      "execution_count": null,
      "outputs": []
    },
    {
      "cell_type": "code",
      "metadata": {
        "id": "esIcy2g6ST7b"
      },
      "source": [
        "bias =  tf.Variable(tf.ones([n_d_n]))\n",
        "weight = tf.Variable(tf.random_normal([n_f,n_d_n]))"
      ],
      "execution_count": null,
      "outputs": []
    },
    {
      "cell_type": "code",
      "metadata": {
        "id": "fZp-72yDSsJd"
      },
      "source": [
        "xw = tf.matmul(x, weight)"
      ],
      "execution_count": null,
      "outputs": []
    },
    {
      "cell_type": "code",
      "metadata": {
        "id": "UO0x6SWsS9Cf"
      },
      "source": [
        "y = tf.add(xw,bias)"
      ],
      "execution_count": null,
      "outputs": []
    },
    {
      "cell_type": "code",
      "metadata": {
        "id": "CU8vW1JcTHNU"
      },
      "source": [
        "af = tf.sigmoid(y)"
      ],
      "execution_count": null,
      "outputs": []
    },
    {
      "cell_type": "code",
      "metadata": {
        "id": "S6na7s04TLg_"
      },
      "source": [
        "init = tf.global_variables_initializer()"
      ],
      "execution_count": null,
      "outputs": []
    },
    {
      "cell_type": "code",
      "metadata": {
        "id": "LTddVrzeTQ1q"
      },
      "source": [
        "with tf.Session() as sess:\n",
        "  sess.run(init)\n",
        "  layer_output = sess.run(af, feed_dict={x : np.random.random([1, n_f])})"
      ],
      "execution_count": null,
      "outputs": []
    },
    {
      "cell_type": "code",
      "metadata": {
        "colab": {
          "base_uri": "https://localhost:8080/"
        },
        "id": "2e_pufgXTnRH",
        "outputId": "5931d22a-503f-4e1c-b9b4-af546026929c"
      },
      "source": [
        "print(layer_output)"
      ],
      "execution_count": null,
      "outputs": [
        {
          "output_type": "stream",
          "text": [
            "[[0.90955675 0.8429223  0.17282152]]\n"
          ],
          "name": "stdout"
        }
      ]
    }
  ]
}