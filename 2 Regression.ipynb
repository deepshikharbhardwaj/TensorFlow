{
  "nbformat": 4,
  "nbformat_minor": 0,
  "metadata": {
    "colab": {
      "name": "Regression.ipynb",
      "provenance": [],
      "collapsed_sections": [],
      "authorship_tag": "ABX9TyNZe0+vYKFLm+L4i0rh96yb",
      "include_colab_link": true
    },
    "kernelspec": {
      "name": "python3",
      "display_name": "Python 3"
    }
  },
  "cells": [
    {
      "cell_type": "markdown",
      "metadata": {
        "id": "view-in-github",
        "colab_type": "text"
      },
      "source": [
        "<a href=\"https://colab.research.google.com/github/deepshikharbhardwaj/TensorFlow/blob/main/2%20Regression.ipynb\" target=\"_parent\"><img src=\"https://colab.research.google.com/assets/colab-badge.svg\" alt=\"Open In Colab\"/></a>"
      ]
    },
    {
      "cell_type": "code",
      "metadata": {
        "id": "uHzqoa1kgNaZ"
      },
      "source": [
        "import tensorflow.compat.v1 as tf\n",
        "tf.disable_v2_behavior()\n",
        "import numpy as np"
      ],
      "execution_count": 34,
      "outputs": []
    },
    {
      "cell_type": "code",
      "metadata": {
        "colab": {
          "base_uri": "https://localhost:8080/"
        },
        "id": "qvxEnPvygcAP",
        "outputId": "2ecd3359-cbfd-4b15-875f-37b8c939fe0d"
      },
      "source": [
        "x_data = np.linspace(0,10,10) + np.random.uniform(-1.5, 1.5, 10) #adding noise\n",
        "x_data\n",
        "y_label = np.linspace(0,10,10) + np.random.uniform(-1.5, 1.5, 10)\n",
        "y_label"
      ],
      "execution_count": 35,
      "outputs": [
        {
          "output_type": "execute_result",
          "data": {
            "text/plain": [
              "array([ 0.23067342,  1.23040772,  2.51847551,  2.97306326,  3.78204344,\n",
              "        7.05338999,  6.78841346,  8.2335832 , 10.31185817, 11.42522626])"
            ]
          },
          "metadata": {
            "tags": []
          },
          "execution_count": 35
        }
      ]
    },
    {
      "cell_type": "code",
      "metadata": {
        "colab": {
          "base_uri": "https://localhost:8080/",
          "height": 282
        },
        "id": "xy4AfFgIgntI",
        "outputId": "7d613fa2-b607-4051-a0c3-3e430cc8103f"
      },
      "source": [
        "import matplotlib.pyplot as plt\n",
        "plt.plot(x_data, y_label, '*')"
      ],
      "execution_count": 36,
      "outputs": [
        {
          "output_type": "execute_result",
          "data": {
            "text/plain": [
              "[<matplotlib.lines.Line2D at 0x7fbf0e639f60>]"
            ]
          },
          "metadata": {
            "tags": []
          },
          "execution_count": 36
        },
        {
          "output_type": "display_data",
          "data": {
            "image/png": "[encoded data removed]",
            "text/plain": [
              "<Figure size 432x288 with 1 Axes>"
            ]
          },
          "metadata": {
            "tags": [],
            "needs_background": "light"
          }
        }
      ]
    },
    {
      "cell_type": "code",
      "metadata": {
        "id": "1ffPC8O5iVTd"
      },
      "source": [
        "m = tf.Variable(0.98)\n",
        "b = tf.Variable(0.85)"
      ],
      "execution_count": 37,
      "outputs": []
    },
    {
      "cell_type": "code",
      "metadata": {
        "id": "925LUdKqjVvl",
        "colab": {
          "base_uri": "https://localhost:8080/"
        },
        "outputId": "503512aa-c620-4429-b4bb-3b3ba798c14c"
      },
      "source": [
        "#Cost Function\n",
        "error = 0\n",
        "for x,y in zip(x_data, y_label):\n",
        "  y_pred = m*x + b\n",
        "  error = (y - y_pred)**2\n",
        "  tf.print(error)\n",
        "  print(error)"
      ],
      "execution_count": 38,
      "outputs": [
        {
          "output_type": "stream",
          "text": [
            "Tensor(\"pow_20:0\", shape=(), dtype=float32)\n",
            "Tensor(\"pow_21:0\", shape=(), dtype=float32)\n",
            "Tensor(\"pow_22:0\", shape=(), dtype=float32)\n",
            "Tensor(\"pow_23:0\", shape=(), dtype=float32)\n",
            "Tensor(\"pow_24:0\", shape=(), dtype=float32)\n",
            "Tensor(\"pow_25:0\", shape=(), dtype=float32)\n",
            "Tensor(\"pow_26:0\", shape=(), dtype=float32)\n",
            "Tensor(\"pow_27:0\", shape=(), dtype=float32)\n",
            "Tensor(\"pow_28:0\", shape=(), dtype=float32)\n",
            "Tensor(\"pow_29:0\", shape=(), dtype=float32)\n"
          ],
          "name": "stdout"
        }
      ]
    },
    {
      "cell_type": "code",
      "metadata": {
        "id": "q0aDU4E9jqY3"
      },
      "source": [
        "optimizer = tf.train.GradientDescentOptimizer(learning_rate = 0.001)\n",
        "train = optimizer.minimize(error)"
      ],
      "execution_count": 39,
      "outputs": []
    },
    {
      "cell_type": "code",
      "metadata": {
        "id": "i-9Nw_8hj63G"
      },
      "source": [
        "init = tf.global_variables_initializer()"
      ],
      "execution_count": 40,
      "outputs": []
    },
    {
      "cell_type": "code",
      "metadata": {
        "id": "SuzO4368kapo"
      },
      "source": [
        "with tf.Session() as sess:\n",
        "  sess.run(init)\n",
        "  epoch = 100\n",
        "  for i in range(epoch):\n",
        "    sess.run(optimizer.minimize(error))\n",
        "    #tf.compat.v1.print(train)\n",
        "  final_slope , final_intercept = sess.run([m,b])"
      ],
      "execution_count": 41,
      "outputs": []
    },
    {
      "cell_type": "code",
      "metadata": {
        "colab": {
          "base_uri": "https://localhost:8080/"
        },
        "id": "6VdebhiIk-2x",
        "outputId": "8a8850c8-dad9-41e3-cc18-d21670772ce0"
      },
      "source": [
        "final_slope\n"
      ],
      "execution_count": 42,
      "outputs": [
        {
          "output_type": "execute_result",
          "data": {
            "text/plain": [
              "0.92073536"
            ]
          },
          "metadata": {
            "tags": []
          },
          "execution_count": 42
        }
      ]
    },
    {
      "cell_type": "code",
      "metadata": {
        "colab": {
          "base_uri": "https://localhost:8080/"
        },
        "id": "DsYpHU9NlCk3",
        "outputId": "974e2a12-9090-4e74-d91d-65f10c1832c1"
      },
      "source": [
        "final_intercept"
      ],
      "execution_count": 43,
      "outputs": [
        {
          "output_type": "execute_result",
          "data": {
            "text/plain": [
              "0.84484273"
            ]
          },
          "metadata": {
            "tags": []
          },
          "execution_count": 43
        }
      ]
    },
    {
      "cell_type": "code",
      "metadata": {
        "colab": {
          "base_uri": "https://localhost:8080/",
          "height": 286
        },
        "id": "Mpv95WZDlEW-",
        "outputId": "f12ddee1-49ac-48ac-f583-1e05532404b5"
      },
      "source": [
        "x_test = np.linspace(-1,11,10)\n",
        "y_pred_plot = final_slope*x_test + final_intercept\n",
        "plt.plot(x_test, y_pred_plot, 'g')\n",
        "plt.plot(x_data, y_label, '*')"
      ],
      "execution_count": 44,
      "outputs": [
        {
          "output_type": "execute_result",
          "data": {
            "text/plain": [
              "[<matplotlib.lines.Line2D at 0x7fbf0ecfdd68>]"
            ]
          },
          "metadata": {
            "tags": []
          },
          "execution_count": 44
        },
        {
          "output_type": "display_data",
          "data": {
            "image/png": "[encoded data removed]",
            "text/plain": [
              "<Figure size 432x288 with 1 Axes>"
            ]
          },
          "metadata": {
            "tags": [],
            "needs_background": "light"
          }
        }
      ]
    },
    {
      "cell_type": "code",
      "metadata": {
        "id": "ELehC1m0liyw"
      },
      "source": [
        ""
      ],
      "execution_count": 44,
      "outputs": []
    }
  ]
}